{
 "cells": [
  {
   "cell_type": "markdown",
   "id": "90fede15",
   "metadata": {},
   "source": [
    "## XGBoost Regression for Global CO2 Emissions Analysis and Prediction\n",
    "### Project: Blazer "
   ]
  },
  {
   "cell_type": "markdown",
   "id": "1bea4605",
   "metadata": {},
   "source": [
    "We implement XGBoost regression model for using global population to predic the level of gloabl CO2 emissions.\n",
    "\n",
    "The data includes global population and global CO2 emission from 1750 to 2020, and there are 45 missing population data, and we consider to drop them as they didn't have much influence to our model.\n",
    "\n",
    "* As year increase, the number of population and total amount of CO2 emissions are also increase, which can imply there are positive relationship between population and CO2. \n",
    "* The overall climbing trend can be also observed in the line chart of Global CO2 Emissions and population from 1750 to 2020\n",
    "* From histogram and boxplot, population and CO2 data are follwed right skewed.\n",
    "* The statistical graphics can tell how rapid increase the population and CO2 emissions especially from 1900 to 2020."
   ]
  },
  {
   "cell_type": "code",
   "execution_count": 1,
   "id": "f20971c8",
   "metadata": {},
   "outputs": [],
   "source": [
    "import pandas as pd\n",
    "import numpy as np\n",
    "import matplotlib.pyplot as plt\n",
    "import seaborn as sns\n",
    "from sklearn.model_selection import train_test_split\n",
    "from sklearn import metrics\n",
    "from sklearn.model_selection import GridSearchCV\n",
    "from sklearn.metrics import mean_squared_error \n",
    "import xgboost as xgb"
   ]
  },
  {
   "cell_type": "markdown",
   "id": "cc1c9f66",
   "metadata": {},
   "source": [
    "## 1. Loading dataset"
   ]
  },
  {
   "cell_type": "code",
   "execution_count": 2,
   "id": "c3054433",
   "metadata": {},
   "outputs": [
    {
     "data": {
      "text/html": [
       "<div>\n",
       "<style scoped>\n",
       "    .dataframe tbody tr th:only-of-type {\n",
       "        vertical-align: middle;\n",
       "    }\n",
       "\n",
       "    .dataframe tbody tr th {\n",
       "        vertical-align: top;\n",
       "    }\n",
       "\n",
       "    .dataframe thead th {\n",
       "        text-align: right;\n",
       "    }\n",
       "</style>\n",
       "<table border=\"1\" class=\"dataframe\">\n",
       "  <thead>\n",
       "    <tr style=\"text-align: right;\">\n",
       "      <th></th>\n",
       "      <th>country</th>\n",
       "      <th>year</th>\n",
       "      <th>iso_code</th>\n",
       "      <th>population</th>\n",
       "      <th>gdp</th>\n",
       "      <th>cement_co2</th>\n",
       "      <th>cement_co2_per_capita</th>\n",
       "      <th>co2</th>\n",
       "      <th>co2_growth_abs</th>\n",
       "      <th>co2_growth_prct</th>\n",
       "      <th>...</th>\n",
       "      <th>share_global_cumulative_oil_co2</th>\n",
       "      <th>share_global_cumulative_other_co2</th>\n",
       "      <th>share_global_flaring_co2</th>\n",
       "      <th>share_global_gas_co2</th>\n",
       "      <th>share_global_oil_co2</th>\n",
       "      <th>share_global_other_co2</th>\n",
       "      <th>total_ghg</th>\n",
       "      <th>total_ghg_excluding_lucf</th>\n",
       "      <th>trade_co2</th>\n",
       "      <th>trade_co2_share</th>\n",
       "    </tr>\n",
       "  </thead>\n",
       "  <tbody>\n",
       "    <tr>\n",
       "      <th>0</th>\n",
       "      <td>Afghanistan</td>\n",
       "      <td>1949</td>\n",
       "      <td>AFG</td>\n",
       "      <td>7624058.0</td>\n",
       "      <td>NaN</td>\n",
       "      <td>NaN</td>\n",
       "      <td>NaN</td>\n",
       "      <td>0.015</td>\n",
       "      <td>NaN</td>\n",
       "      <td>NaN</td>\n",
       "      <td>...</td>\n",
       "      <td>NaN</td>\n",
       "      <td>NaN</td>\n",
       "      <td>NaN</td>\n",
       "      <td>NaN</td>\n",
       "      <td>NaN</td>\n",
       "      <td>NaN</td>\n",
       "      <td>NaN</td>\n",
       "      <td>NaN</td>\n",
       "      <td>NaN</td>\n",
       "      <td>NaN</td>\n",
       "    </tr>\n",
       "    <tr>\n",
       "      <th>1</th>\n",
       "      <td>Afghanistan</td>\n",
       "      <td>1950</td>\n",
       "      <td>AFG</td>\n",
       "      <td>7752117.0</td>\n",
       "      <td>9.421400e+09</td>\n",
       "      <td>NaN</td>\n",
       "      <td>NaN</td>\n",
       "      <td>0.084</td>\n",
       "      <td>0.070</td>\n",
       "      <td>475.0</td>\n",
       "      <td>...</td>\n",
       "      <td>0.0</td>\n",
       "      <td>NaN</td>\n",
       "      <td>NaN</td>\n",
       "      <td>NaN</td>\n",
       "      <td>0.0</td>\n",
       "      <td>NaN</td>\n",
       "      <td>NaN</td>\n",
       "      <td>NaN</td>\n",
       "      <td>NaN</td>\n",
       "      <td>NaN</td>\n",
       "    </tr>\n",
       "    <tr>\n",
       "      <th>2</th>\n",
       "      <td>Afghanistan</td>\n",
       "      <td>1951</td>\n",
       "      <td>AFG</td>\n",
       "      <td>7840151.0</td>\n",
       "      <td>9.692280e+09</td>\n",
       "      <td>NaN</td>\n",
       "      <td>NaN</td>\n",
       "      <td>0.092</td>\n",
       "      <td>0.007</td>\n",
       "      <td>8.7</td>\n",
       "      <td>...</td>\n",
       "      <td>0.0</td>\n",
       "      <td>NaN</td>\n",
       "      <td>NaN</td>\n",
       "      <td>NaN</td>\n",
       "      <td>0.0</td>\n",
       "      <td>NaN</td>\n",
       "      <td>NaN</td>\n",
       "      <td>NaN</td>\n",
       "      <td>NaN</td>\n",
       "      <td>NaN</td>\n",
       "    </tr>\n",
       "    <tr>\n",
       "      <th>3</th>\n",
       "      <td>Afghanistan</td>\n",
       "      <td>1952</td>\n",
       "      <td>AFG</td>\n",
       "      <td>7935996.0</td>\n",
       "      <td>1.001733e+10</td>\n",
       "      <td>NaN</td>\n",
       "      <td>NaN</td>\n",
       "      <td>0.092</td>\n",
       "      <td>0.000</td>\n",
       "      <td>0.0</td>\n",
       "      <td>...</td>\n",
       "      <td>0.0</td>\n",
       "      <td>NaN</td>\n",
       "      <td>NaN</td>\n",
       "      <td>NaN</td>\n",
       "      <td>0.0</td>\n",
       "      <td>NaN</td>\n",
       "      <td>NaN</td>\n",
       "      <td>NaN</td>\n",
       "      <td>NaN</td>\n",
       "      <td>NaN</td>\n",
       "    </tr>\n",
       "    <tr>\n",
       "      <th>4</th>\n",
       "      <td>Afghanistan</td>\n",
       "      <td>1953</td>\n",
       "      <td>AFG</td>\n",
       "      <td>8039684.0</td>\n",
       "      <td>1.063052e+10</td>\n",
       "      <td>NaN</td>\n",
       "      <td>NaN</td>\n",
       "      <td>0.106</td>\n",
       "      <td>0.015</td>\n",
       "      <td>16.0</td>\n",
       "      <td>...</td>\n",
       "      <td>0.0</td>\n",
       "      <td>NaN</td>\n",
       "      <td>NaN</td>\n",
       "      <td>NaN</td>\n",
       "      <td>0.0</td>\n",
       "      <td>NaN</td>\n",
       "      <td>NaN</td>\n",
       "      <td>NaN</td>\n",
       "      <td>NaN</td>\n",
       "      <td>NaN</td>\n",
       "    </tr>\n",
       "  </tbody>\n",
       "</table>\n",
       "<p>5 rows × 60 columns</p>\n",
       "</div>"
      ],
      "text/plain": [
       "       country  year iso_code  population           gdp  cement_co2  \\\n",
       "0  Afghanistan  1949      AFG   7624058.0           NaN         NaN   \n",
       "1  Afghanistan  1950      AFG   7752117.0  9.421400e+09         NaN   \n",
       "2  Afghanistan  1951      AFG   7840151.0  9.692280e+09         NaN   \n",
       "3  Afghanistan  1952      AFG   7935996.0  1.001733e+10         NaN   \n",
       "4  Afghanistan  1953      AFG   8039684.0  1.063052e+10         NaN   \n",
       "\n",
       "   cement_co2_per_capita    co2  co2_growth_abs  co2_growth_prct  ...  \\\n",
       "0                    NaN  0.015             NaN              NaN  ...   \n",
       "1                    NaN  0.084           0.070            475.0  ...   \n",
       "2                    NaN  0.092           0.007              8.7  ...   \n",
       "3                    NaN  0.092           0.000              0.0  ...   \n",
       "4                    NaN  0.106           0.015             16.0  ...   \n",
       "\n",
       "   share_global_cumulative_oil_co2  share_global_cumulative_other_co2  \\\n",
       "0                              NaN                                NaN   \n",
       "1                              0.0                                NaN   \n",
       "2                              0.0                                NaN   \n",
       "3                              0.0                                NaN   \n",
       "4                              0.0                                NaN   \n",
       "\n",
       "   share_global_flaring_co2  share_global_gas_co2  share_global_oil_co2  \\\n",
       "0                       NaN                   NaN                   NaN   \n",
       "1                       NaN                   NaN                   0.0   \n",
       "2                       NaN                   NaN                   0.0   \n",
       "3                       NaN                   NaN                   0.0   \n",
       "4                       NaN                   NaN                   0.0   \n",
       "\n",
       "   share_global_other_co2  total_ghg  total_ghg_excluding_lucf  trade_co2  \\\n",
       "0                     NaN        NaN                       NaN        NaN   \n",
       "1                     NaN        NaN                       NaN        NaN   \n",
       "2                     NaN        NaN                       NaN        NaN   \n",
       "3                     NaN        NaN                       NaN        NaN   \n",
       "4                     NaN        NaN                       NaN        NaN   \n",
       "\n",
       "   trade_co2_share  \n",
       "0              NaN  \n",
       "1              NaN  \n",
       "2              NaN  \n",
       "3              NaN  \n",
       "4              NaN  \n",
       "\n",
       "[5 rows x 60 columns]"
      ]
     },
     "execution_count": 2,
     "metadata": {},
     "output_type": "execute_result"
    }
   ],
   "source": [
    "df = pd.read_csv('owid-co2-data.csv')\n",
    "df.head()"
   ]
  },
  {
   "cell_type": "code",
   "execution_count": 3,
   "id": "fb86b670",
   "metadata": {},
   "outputs": [
    {
     "name": "stdout",
     "output_type": "stream",
     "text": [
      "<class 'pandas.core.frame.DataFrame'>\n",
      "Int64Index: 271 entries, 25477 to 25747\n",
      "Data columns (total 3 columns):\n",
      " #   Column      Non-Null Count  Dtype  \n",
      "---  ------      --------------  -----  \n",
      " 0   year        271 non-null    int64  \n",
      " 1   population  226 non-null    float64\n",
      " 2   co2         271 non-null    float64\n",
      "dtypes: float64(2), int64(1)\n",
      "memory usage: 8.5 KB\n"
     ]
    }
   ],
   "source": [
    "# extract data from only world level \n",
    "data = df[df[\"country\"].isin([\"World\"])]\n",
    "data = data[['year','population', 'co2']]\n",
    "data.info()"
   ]
  },
  {
   "cell_type": "markdown",
   "id": "a9a83dbc",
   "metadata": {},
   "source": [
    "## 2. Descriptive statistics "
   ]
  },
  {
   "cell_type": "code",
   "execution_count": 4,
   "id": "78262cdc",
   "metadata": {},
   "outputs": [
    {
     "data": {
      "text/html": [
       "<div>\n",
       "<style scoped>\n",
       "    .dataframe tbody tr th:only-of-type {\n",
       "        vertical-align: middle;\n",
       "    }\n",
       "\n",
       "    .dataframe tbody tr th {\n",
       "        vertical-align: top;\n",
       "    }\n",
       "\n",
       "    .dataframe thead th {\n",
       "        text-align: right;\n",
       "    }\n",
       "</style>\n",
       "<table border=\"1\" class=\"dataframe\">\n",
       "  <thead>\n",
       "    <tr style=\"text-align: right;\">\n",
       "      <th></th>\n",
       "      <th>count</th>\n",
       "      <th>mean</th>\n",
       "      <th>std</th>\n",
       "      <th>min</th>\n",
       "      <th>25%</th>\n",
       "      <th>50%</th>\n",
       "      <th>75%</th>\n",
       "      <th>max</th>\n",
       "    </tr>\n",
       "  </thead>\n",
       "  <tbody>\n",
       "    <tr>\n",
       "      <th>population</th>\n",
       "      <td>226.0</td>\n",
       "      <td>2.589392e+09</td>\n",
       "      <td>1.879929e+09</td>\n",
       "      <td>7.456645e+08</td>\n",
       "      <td>1.281684e+09</td>\n",
       "      <td>1.754469e+09</td>\n",
       "      <td>3.258232e+09</td>\n",
       "      <td>7.794789e+09</td>\n",
       "    </tr>\n",
       "    <tr>\n",
       "      <th>co2</th>\n",
       "      <td>271.0</td>\n",
       "      <td>6.260237e+03</td>\n",
       "      <td>9.943308e+03</td>\n",
       "      <td>9.351000e+00</td>\n",
       "      <td>4.953750e+01</td>\n",
       "      <td>1.009675e+03</td>\n",
       "      <td>6.556711e+03</td>\n",
       "      <td>3.670250e+04</td>\n",
       "    </tr>\n",
       "  </tbody>\n",
       "</table>\n",
       "</div>"
      ],
      "text/plain": [
       "            count          mean           std           min           25%  \\\n",
       "population  226.0  2.589392e+09  1.879929e+09  7.456645e+08  1.281684e+09   \n",
       "co2         271.0  6.260237e+03  9.943308e+03  9.351000e+00  4.953750e+01   \n",
       "\n",
       "                     50%           75%           max  \n",
       "population  1.754469e+09  3.258232e+09  7.794789e+09  \n",
       "co2         1.009675e+03  6.556711e+03  3.670250e+04  "
      ]
     },
     "execution_count": 4,
     "metadata": {},
     "output_type": "execute_result"
    }
   ],
   "source": [
    "summary = data[['population', 'co2']].describe().transpose()\n",
    "summary"
   ]
  },
  {
   "cell_type": "markdown",
   "id": "46199b05",
   "metadata": {},
   "source": [
    "## 3. Exploratory data analysis and statistical graphics"
   ]
  },
  {
   "cell_type": "markdown",
   "id": "c9139595",
   "metadata": {},
   "source": [
    "* Pair Plot"
   ]
  },
  {
   "cell_type": "code",
   "execution_count": 5,
   "id": "0cb8537a",
   "metadata": {},
   "outputs": [
    {
     "data": {
      "text/plain": [
       "Text(0.5, 1.05, 'Pair Plot of population vs co2')"
      ]
     },
     "execution_count": 5,
     "metadata": {},
     "output_type": "execute_result"
    },
    {
     "data": {
      "image/png": "[encoded data removed]",
      "text/plain": [
       "<Figure size 432x432 with 12 Axes>"
      ]
     },
     "metadata": {
      "needs_background": "light"
     },
     "output_type": "display_data"
    }
   ],
   "source": [
    "pair_plot = sns.pairplot(data, diag_kind=\"kde\",height=2)\n",
    "pair_plot.fig.suptitle(\"Pair Plot of population vs co2\", y=1.05)"
   ]
  },
  {
   "cell_type": "markdown",
   "id": "cef190c8",
   "metadata": {},
   "source": [
    "- Histogram"
   ]
  },
  {
   "cell_type": "code",
   "execution_count": 6,
   "id": "67908675",
   "metadata": {},
   "outputs": [
    {
     "data": {
      "text/plain": [
       "[Text(0.5, 1.0, 'Histogram of co2')]"
      ]
     },
     "execution_count": 6,
     "metadata": {},
     "output_type": "execute_result"
    },
    {
     "data": {
      "image/png": "[encoded data removed]",
      "text/plain": [
       "<Figure size 432x288 with 1 Axes>"
      ]
     },
     "metadata": {
      "needs_background": "light"
     },
     "output_type": "display_data"
    }
   ],
   "source": [
    "sns.histplot(data=data, x=\"co2\", kde=True).set(title='Histogram of co2')"
   ]
  },
  {
   "cell_type": "code",
   "execution_count": 7,
   "id": "896b6755",
   "metadata": {},
   "outputs": [
    {
     "data": {
      "text/plain": [
       "[Text(0.5, 1.0, 'Histogram of population')]"
      ]
     },
     "execution_count": 7,
     "metadata": {},
     "output_type": "execute_result"
    },
    {
     "data": {
      "image/png": "[encoded data removed]",
      "text/plain": [
       "<Figure size 432x288 with 1 Axes>"
      ]
     },
     "metadata": {
      "needs_background": "light"
     },
     "output_type": "display_data"
    }
   ],
   "source": [
    "sns.histplot(data=data, x=\"population\", kde=True).set(title='Histogram of population')"
   ]
  },
  {
   "cell_type": "markdown",
   "id": "18b9cab2",
   "metadata": {},
   "source": [
    "- Boxplot"
   ]
  },
  {
   "cell_type": "code",
   "execution_count": 8,
   "id": "21088e64",
   "metadata": {},
   "outputs": [
    {
     "data": {
      "text/plain": [
       "[Text(0.5, 1.0, 'Boxplot of co2')]"
      ]
     },
     "execution_count": 8,
     "metadata": {},
     "output_type": "execute_result"
    },
    {
     "data": {
      "image/png": "[encoded data removed]",
      "text/plain": [
       "<Figure size 432x288 with 1 Axes>"
      ]
     },
     "metadata": {
      "needs_background": "light"
     },
     "output_type": "display_data"
    }
   ],
   "source": [
    "sns.boxplot(x=data[\"co2\"]).set(title='Boxplot of co2')"
   ]
  },
  {
   "cell_type": "code",
   "execution_count": 9,
   "id": "e72c3110",
   "metadata": {},
   "outputs": [
    {
     "data": {
      "text/plain": [
       "[Text(0.5, 1.0, 'Boxplot of population')]"
      ]
     },
     "execution_count": 9,
     "metadata": {},
     "output_type": "execute_result"
    },
    {
     "data": {
      "image/png": "[encoded data removed]",
      "text/plain": [
       "<Figure size 432x288 with 1 Axes>"
      ]
     },
     "metadata": {
      "needs_background": "light"
     },
     "output_type": "display_data"
    }
   ],
   "source": [
    "sns.boxplot(x=data[\"population\"]).set(title='Boxplot of population')"
   ]
  },
  {
   "cell_type": "markdown",
   "id": "8d277856",
   "metadata": {},
   "source": [
    "- Line chart"
   ]
  },
  {
   "cell_type": "code",
   "execution_count": 10,
   "id": "ec87d54e",
   "metadata": {},
   "outputs": [
    {
     "data": {
      "image/png": "[encoded data removed]",
      "text/plain": [
       "<Figure size 432x288 with 2 Axes>"
      ]
     },
     "metadata": {
      "needs_background": "light"
     },
     "output_type": "display_data"
    }
   ],
   "source": [
    "fig, ax = plt.subplots()\n",
    "\n",
    "ax.plot(data['year'],data['co2'], color='red', label = 'co2')\n",
    "ax.tick_params(axis='y', labelcolor='red')\n",
    "plt.xlabel(\"year\")  \n",
    "plt.ylabel(\"co2\") \n",
    "\n",
    "ax2 = ax.twinx()\n",
    "\n",
    "ax2.plot(data['year'], data['population'], color='green', label = 'population')\n",
    "ax2.tick_params(axis='y', labelcolor='green')\n",
    "plt.ylabel(\"population\") \n",
    "ax.legend(loc='center left', bbox_to_anchor=(1.1, 0.4))\n",
    "ax2.legend(loc='center left', bbox_to_anchor=(1.1, 0.5))\n",
    "plt.title(\"Global CO2 Emissions and population from 1750 to 2020\", y=1.08)\n",
    "plt.show()\n",
    "\n"
   ]
  },
  {
   "cell_type": "markdown",
   "id": "a2f4a37f",
   "metadata": {},
   "source": [
    "## 4. Model"
   ]
  },
  {
   "cell_type": "markdown",
   "id": "944d743d",
   "metadata": {},
   "source": [
    "- Split data to trainset and testset "
   ]
  },
  {
   "cell_type": "code",
   "execution_count": 11,
   "id": "e26a7a24",
   "metadata": {},
   "outputs": [
    {
     "name": "stdout",
     "output_type": "stream",
     "text": [
      "<class 'pandas.core.frame.DataFrame'>\n",
      "Int64Index: 226 entries, 25477 to 25747\n",
      "Data columns (total 3 columns):\n",
      " #   Column      Non-Null Count  Dtype  \n",
      "---  ------      --------------  -----  \n",
      " 0   year        226 non-null    int64  \n",
      " 1   population  226 non-null    float64\n",
      " 2   co2         226 non-null    float64\n",
      "dtypes: float64(2), int64(1)\n",
      "memory usage: 7.1 KB\n"
     ]
    }
   ],
   "source": [
    "# Since population has nan, we drop missing value\n",
    "\n",
    "data = data.dropna()\n",
    "data.info()"
   ]
  },
  {
   "cell_type": "code",
   "execution_count": 12,
   "id": "2cf425b2",
   "metadata": {},
   "outputs": [],
   "source": [
    "X, y = data['population'], data['co2']\n",
    "X_train, X_test, y_train, y_test = train_test_split(X, y, test_size=0.20)\n",
    "# X_train, X_test, y_train, y_test = X.iloc[:-30], X.iloc[-30:], y.iloc[:-30], y.iloc[-30:]\n",
    "# df.iloc[:3]"
   ]
  },
  {
   "cell_type": "markdown",
   "id": "c9aa1fcf",
   "metadata": {},
   "source": [
    "* Cross Validation\n"
   ]
  },
  {
   "cell_type": "code",
   "execution_count": 13,
   "id": "a98ef453",
   "metadata": {},
   "outputs": [
    {
     "name": "stdout",
     "output_type": "stream",
     "text": [
      "The best hyperparameters are  {'alpha': 0.001, 'learning_rate': 0.015, 'max_depth': 5, 'n_estimators': 200}\n"
     ]
    }
   ],
   "source": [
    "regressor=xgb.XGBRegressor(eval_metric='rmsle')\n",
    "\n",
    "param_grid = {'alpha': [1e-3, 1e-2, 1e-1, 0, 1, 1.5],\n",
    "              \"max_depth\": [3, 4, 5],\n",
    "              \"n_estimators\": [10, 100, 200],\n",
    "              \"learning_rate\": [0.01, 0.015]}\n",
    "\n",
    "search = GridSearchCV(regressor, param_grid, cv=5).fit(X_train, y_train)\n",
    "\n",
    "print(\"The best hyperparameters are \",search.best_params_)"
   ]
  },
  {
   "cell_type": "markdown",
   "id": "a7819f80",
   "metadata": {},
   "source": [
    "* Fit model\n",
    "  "
   ]
  },
  {
   "cell_type": "code",
   "execution_count": 14,
   "id": "1d02625b",
   "metadata": {},
   "outputs": [],
   "source": [
    "xg =xgb.XGBRegressor(learning_rate = search.best_params_[\"learning_rate\"],\n",
    "                     n_estimators  = search.best_params_[\"n_estimators\"],\n",
    "                     max_depth     = search.best_params_[\"max_depth\"],\n",
    "                    alpha = search.best_params_[\"alpha\"])\n",
    "\n",
    "xg.fit(X_train, y_train)\n",
    "y_pred = xg.predict(X_test)"
   ]
  },
  {
   "cell_type": "code",
   "execution_count": 15,
   "id": "a2716115",
   "metadata": {},
   "outputs": [
    {
     "name": "stdout",
     "output_type": "stream",
     "text": [
      "R2 Value: 0.9884233252730543\n",
      "RMSE :  1085.546643\n",
      "MAE :  633.259429\n",
      "Accuracy 89.87379509205462\n"
     ]
    }
   ],
   "source": [
    "print('R2 Value:',metrics.r2_score(y_test, y_pred))\n",
    "rmse = np.sqrt(mean_squared_error (y_test, y_pred))\n",
    "print(\"RMSE : % f\" %(rmse))\n",
    "mae = metrics.mean_absolute_error(y_test, y_pred)\n",
    "print(\"MAE : % f\" %(mae))\n",
    "#Measuring accuracy on Testing Data\n",
    "print('Accuracy',100- (np.mean(np.abs((y_test - y_pred) / y_test)) * 100))"
   ]
  },
  {
   "cell_type": "markdown",
   "id": "6f188eb2",
   "metadata": {},
   "source": [
    "* Plot results"
   ]
  },
  {
   "cell_type": "code",
   "execution_count": 16,
   "id": "afbe273c",
   "metadata": {},
   "outputs": [
    {
     "data": {
      "image/png": "[encoded data removed]",
      "text/plain": [
       "<Figure size 432x288 with 1 Axes>"
      ]
     },
     "metadata": {
      "needs_background": "light"
     },
     "output_type": "display_data"
    }
   ],
   "source": [
    "plt.scatter(X_test, y_pred, label = 'fitted')\n",
    "plt.scatter(X_test, y_test, label = 'actual')\n",
    "plt.xlabel(\"Population Data Index\") \n",
    "plt.ylabel(\"co2\")  \n",
    "plt.title(\"Fitted values vs Actual values\")\n",
    "plt.legend()\n",
    "plt.show()"
   ]
  }
 ],
 "metadata": {
  "kernelspec": {
   "display_name": "Python 3 (ipykernel)",
   "language": "python",
   "name": "python3"
  },
  "language_info": {
   "codemirror_mode": {
    "name": "ipython",
    "version": 3
   },
   "file_extension": ".py",
   "mimetype": "text/x-python",
   "name": "python",
   "nbconvert_exporter": "python",
   "pygments_lexer": "ipython3",
   "version": "3.9.12"
  },
  "vscode": {
   "interpreter": {
    "hash": "5b88d7c87021425f9ee21db61bd59700331f65840bdff269c6ec71c7ecf27589"
   }
  }
 },
 "nbformat": 4,
 "nbformat_minor": 5
}
